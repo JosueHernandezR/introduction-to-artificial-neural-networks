{
 "cells": [
  {
   "cell_type": "code",
   "execution_count": 1,
   "metadata": {},
   "outputs": [],
   "source": [
    "# -*- coding: utf-8 -*-\n",
    "import numpy as np\n",
    "import matplotlib.pyplot as plt\n",
    " \n",
    "#%% Training patterns and targets\n",
    "X = np.array([[2, 7], [3, 9], [4, 4], [5, 7], [6, 11], [7, 4], [8,6], [8,9], [10, 6], [10, 9]])\n",
    "t = np.array([0, 0, 0, 1, 0, 0, 1, 1, 1 ,1])\n",
    "testinga=[]\n",
    "\n",
    "alpha = 0.5\n",
    "epochs = 9000\n",
    " \n",
    "# Pesos iniciales\n",
    "w1 = np.array([[0.1, 0.2], [-0.4, 0.5]]) # w_2\n",
    "b1 = np.array([0.3, -0.6]) # b_2\n",
    "w2 = np.array([0.7, 0.8]) # w_3\n",
    "b2 = np.array([-0.9]) #b_3"
   ]
  },
  {
   "cell_type": "code",
   "execution_count": 2,
   "metadata": {},
   "outputs": [],
   "source": [
    "#%%\n",
    "err_vector = []\n",
    "for epoch in range(epochs):\n",
    "    count = 0\n",
    "    err = 0\n",
    "    for x in X:\n",
    "        # Feed forward\n",
    "        ####primera capa\n",
    "        z1 = np.dot(x, w1.T) + b1 \n",
    "        # Sigmoid function\n",
    "        a1 = 1 / (1 + np.exp(-z1)) #a_2\n",
    "        ####segunda capa\n",
    "        z2 = np.dot(a1, w2) + b2\n",
    "        # Sigmoid function\n",
    "        a2 = 1 / (1 + np.exp(-z2)) #a_3\n",
    "        \n",
    "        \n",
    "        # Network error\n",
    "        err += 0.5 * np.power(t[count] - a2, 2)\n",
    "        \n",
    "        #### Back propagation        \n",
    "        L_error = -(t[count] - a2) * a2 * (1 - a2)\n",
    "        \n",
    "        # New output weights and bias\n",
    "        n_w2 = w2 - alpha * L_error * a1\n",
    "        n_b2 = b2 - alpha * L_error\n",
    "        \n",
    "        # Hidden layer error (l)\n",
    "        l_error = L_error * w2 * a1 * (1 - a1)\n",
    "        \n",
    "        # New hidden weights and bias\n",
    "        n_b1 = b1 - alpha * l_error\n",
    "        x = np.reshape(x, (1, len(x)))\n",
    "        l_error = np.reshape(l_error, (len(l_error), 1))\n",
    "        n_w1 = w1 - alpha * np.multiply(l_error, x)\n",
    "        \n",
    "        # Actualizacion de pesos y bias\n",
    "        w1 = n_w1\n",
    "        b1 = n_b1\n",
    "        w2 = n_w2\n",
    "        b2 = n_b2\n",
    "        \n",
    "        count += 1\n",
    "        \n",
    "    err_vector.append(err / X.shape[0])\n",
    "    "
   ]
  },
  {
   "cell_type": "code",
   "execution_count": 3,
   "metadata": {},
   "outputs": [
    {
     "name": "stdout",
     "output_type": "stream",
     "text": [
      "       MLP result      \n",
      "Pat:          t:      out:\n",
      "0. [2 7] ---- 0 ----> 0.013\n",
      "1. [3 9] ---- 0 ----> 0.015\n",
      "2. [4 4] ---- 0 ----> 0.016\n",
      "3. [5 7] ---- 1 ----> 0.986\n",
      "4. [ 6 11] ---- 0 ----> 0.016\n",
      "5. [7 4] ---- 0 ----> 0.021\n",
      "6. [8 6] ---- 1 ----> 0.982\n",
      "7. [8 9] ---- 1 ----> 0.990\n",
      "8. [10  6] ---- 1 ----> 0.985\n",
      "9. [10  9] ---- 1 ----> 0.990\n"
     ]
    },
    {
     "data": {
      "image/png": "[encoded data removed]",
      "text/plain": [
       "<Figure size 432x288 with 1 Axes>"
      ]
     },
     "metadata": {
      "needs_background": "light"
     },
     "output_type": "display_data"
    }
   ],
   "source": [
    "#%% Testing patterns\n",
    "print('       MLP result      ')\n",
    "print('Pat:          t:      out:')\n",
    "count = 0\n",
    "for x in X:\n",
    "    # Feed forward\n",
    "    ####primera capa\n",
    "    z1 = np.dot(x, w1.T) + b1 \n",
    "    # Sigmoid function\n",
    "    a1 = 1 / (1 + np.exp(-z1)) \n",
    "    ####segunda capa\n",
    "    z2 = np.dot(a1, w2) + b2\n",
    "    # Sigmoid function\n",
    "    a2 = 1 / (1 + np.exp(-z2))\n",
    "    print('{}. {} ---- {} ----> {:.3f}'.format(count, x, t[count], float(a2)))\n",
    "    count += 1\n",
    "    testinga.append(a1)\n",
    "    \n",
    "#%%%   \n",
    "# Graph error\n",
    " \n",
    "plt.figure(0)\n",
    "plt.plot(err_vector)\n",
    "plt.xlabel('Epocas')\n",
    "plt.ylabel('Error')\n",
    "plt.title('BP algorithm')\n",
    "plt.show()"
   ]
  },
  {
   "cell_type": "code",
   "execution_count": null,
   "metadata": {},
   "outputs": [],
   "source": [
    "#%%\n",
    "# Decision boundaries\n",
    "#def dec_boundaries(X, t, w_2, b_2, w_3, b_3):\n",
    "    \n",
    "# Creating mesh\n",
    "h = 0.01\n",
    "x_min, x_max = -0.2, 12.2\n",
    "y_min, y_max = -0.2, 15.2\n",
    " \n",
    "xx, yy = np.meshgrid(np.arange(x_min, x_max, h),np.arange(y_min, y_max, h))\n",
    " \n",
    "Z = np.c_[xx.ravel(), yy.ravel()]\n",
    "out = np.zeros(np.shape(Z)[0])\n",
    " \n",
    "#%% Output model\n",
    "for i in range(len(out)):\n",
    "    # Feed forward\n",
    "    ####primera capa\n",
    "    z1 = np.dot(Z[i], w1.T) + b1 \n",
    "    # Sigmoid function\n",
    "    a1 = 1 / (1 + np.exp(-z1)) \n",
    "    ####segunda capa\n",
    "    z2 = np.dot(a1, w2) + b2\n",
    "    # Sigmoid function\n",
    "    a2 = 1 / (1 + np.exp(-z2))\n",
    "    out[i] = a2\n",
    "    \n",
    "# out = (out >= 0.5).astype(int)\n",
    "out = out.reshape(xx.shape)\n",
    "levels = np.linspace(0, 1)\n",
    "plt.figure(1)\n",
    "plt.contourf(xx, yy, out, levels)\n",
    "plt.colorbar()\n",
    " \n",
    "# Plotting data\n",
    "lis = np.unique(t)\n",
    "for i in range(len(t)):\n",
    "    if i == 0:\n",
    "        pos = np.where(t == 0)[0]\n",
    "        plt.plot(X[pos][:, 0], X[pos][:, 1], 'o', color = 'm', markersize = 15)\n",
    "    else:\n",
    "        pos = np.where(t == 1)[0]\n",
    "        plt.plot(X[pos][:, 0], X[pos][:, 1], 'x', color = 'r', markersize = 15)\n",
    " \n",
    "plt.title('Decision boundary')\n",
    "plt.xlabel('x')\n",
    "plt.ylabel('y')\n",
    "plt.show()"
   ]
  },
  {
   "cell_type": "code",
   "execution_count": null,
   "metadata": {},
   "outputs": [],
   "source": [
    "# out = (out >= 0.5).astype(int)\n",
    "out = out.reshape(xx.shape)\n",
    "levels = np.linspace(0, 1)\n",
    "plt.figure(2)\n",
    "plt.contourf(xx, yy, out, levels)\n",
    "plt.colorbar()\n",
    " \n",
    "# Plotting data\n",
    "plt.plot(3, 7, 'o', color = 'm', markersize = 15)\n",
    "plt.plot(6, 8, 'x', color = 'r', markersize = 15)\n",
    "plt.title('Prueba final Decision boundary')\n",
    "plt.xlabel('x')\n",
    "plt.ylabel('y')\n",
    "plt.show()"
   ]
  },
  {
   "cell_type": "code",
   "execution_count": null,
   "metadata": {},
   "outputs": [],
   "source": [
    "print(testingapend)"
   ]
  },
  {
   "cell_type": "code",
   "execution_count": null,
   "metadata": {},
   "outputs": [],
   "source": [
    "print(z1)"
   ]
  },
  {
   "cell_type": "code",
   "execution_count": null,
   "metadata": {},
   "outputs": [],
   "source": []
  }
 ],
 "metadata": {
  "kernelspec": {
   "display_name": "Python 3",
   "language": "python",
   "name": "python3"
  },
  "language_info": {
   "codemirror_mode": {
    "name": "ipython",
    "version": 3
   },
   "file_extension": ".py",
   "mimetype": "text/x-python",
   "name": "python",
   "nbconvert_exporter": "python",
   "pygments_lexer": "ipython3",
   "version": "3.8.3"
  }
 },
 "nbformat": 4,
 "nbformat_minor": 4
}
