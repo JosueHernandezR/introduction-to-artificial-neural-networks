{
 "cells": [
  {
   "cell_type": "code",
   "execution_count": 1,
   "metadata": {},
   "outputs": [],
   "source": [
    "import numpy as np\n",
    "import matplotlib.pyplot as plt\n",
    "import time"
   ]
  },
  {
   "cell_type": "code",
   "execution_count": 2,
   "metadata": {},
   "outputs": [],
   "source": [
    "def CostFunction(t, y):\n",
    "    \n",
    "    cost = np.sum(0.5 * (t-y) ** 2)\n",
    "    # cost = 0.5 * sum ((t-y) ** 2)\n",
    "    return cost\n",
    "\n",
    "# Funcion Sigmoide\n",
    "def sigmoid(g):\n",
    "    a = 1 / (1 + np.exp(-g))\n",
    "    return(a)\n",
    "\n",
    "\n",
    "err_vectorS  = []\n",
    "w_fS = []\n",
    "\n",
    "#%% Entradas\n",
    "x = np.array([[2,6],[4,4],[6,3],[4,10],[7,10],[9,8]])\n",
    "\n",
    "#%% Target sigmoide\n",
    "tS = np.array([[1],[1],[1],[-1],[-1],[-1]])\n",
    "\n",
    "#%% Vector de pesos para sigmoide\n",
    "w_iS = np.array([[0.5],[-0.5],[-1]])\n",
    "\n",
    "alpha = 0.4\n",
    "\n",
    "#%% bias\n",
    "bias =np.shape(x)[0]\n",
    "bias = -1 * np.ones((bias,1))\n",
    "\n",
    "#%% Vector aumentado\n",
    "xS = np.concatenate([x,bias], axis = 1)\n"
   ]
  },
  {
   "cell_type": "code",
   "execution_count": 3,
   "metadata": {},
   "outputs": [],
   "source": [
    "ticS = time.time()\n",
    "\n",
    "# Dot product\n",
    "a = np.dot(xS,w_iS)\n",
    "\n",
    "#Funcion sigmoide\n",
    "y = sigmoid(a)\n",
    "\n",
    "#Error cuadratico medio\n",
    "err = CostFunction(tS, y)\n",
    "err_vectorS.append(err)\n",
    "epochS = 0\n",
    "epocas = 3000"
   ]
  },
  {
   "cell_type": "code",
   "execution_count": 4,
   "metadata": {},
   "outputs": [],
   "source": [
    "#####Entrenamiento\n",
    "for i in range(epocas):\n",
    "    epochS+=1\n",
    "    for i in range(np.shape(xS)[0]):\n",
    "        # Dot product\n",
    "        a = np.dot(xS[i] , w_iS)\n",
    "        # Hard limit\n",
    "        y[i] = sigmoid(a)\n",
    "        # Actualizacion de pesos\n",
    "        x_T = np.reshape(xS[i], (len(w_iS),1))#transpuesta\n",
    "        w_nS = w_iS - alpha * x_T * y[i] * (y[i] - tS[i]) * (1 - y[i])\n",
    "        w_iS = w_nS\n",
    "        \n",
    "    err = 0.25 * CostFunction(tS, y)\n",
    "    \n",
    "    err_vectorS.append(err)\n",
    "    w_fS.append(w_iS)\n",
    "    \n",
    "tocS = time.time()"
   ]
  },
  {
   "cell_type": "code",
   "execution_count": 5,
   "metadata": {},
   "outputs": [
    {
     "data": {
      "image/png": "[encoded data removed]",
      "text/plain": [
       "<Figure size 432x288 with 1 Axes>"
      ]
     },
     "metadata": {
      "needs_background": "light"
     },
     "output_type": "display_data"
    }
   ],
   "source": [
    "plt.figure(0)\n",
    "plt.plot(err_vectorS, linewidth = 2)\n",
    "plt.title('Gráfica de Error: NEURONA SIGMOIDE')\n",
    "plt.ylabel('Magnitud de Error')\n",
    "plt.xlabel('Epócas')\n",
    "plt.scatter(len(err_vectorS) - 1, 0, color = 'r', s = 200, marker = 'o', alpha = 0.4)\n",
    "plt.show()"
   ]
  },
  {
   "cell_type": "code",
   "execution_count": 6,
   "metadata": {},
   "outputs": [
    {
     "data": {
      "image/png": "[encoded data removed]",
      "text/plain": [
       "<Figure size 432x288 with 1 Axes>"
      ]
     },
     "metadata": {
      "needs_background": "light"
     },
     "output_type": "display_data"
    }
   ],
   "source": [
    "################%% Grafica frontera de decision\n",
    "fig = plt.figure(1)\n",
    "plt.xlim([-1.0,15.0])\n",
    "plt.ylim([-1.0,15.0])\n",
    "\n",
    "patterns = np.unique(tS)\n",
    "\n",
    "for patt in patterns:\n",
    "  pos = np.where(patt == tS)[0]\n",
    "  if patt == -1:\n",
    "    plt.scatter(x[pos,0],x[pos,1],color = 'g', s =200, marker = 'o', alpha = 0.8)\n",
    "  else:\n",
    "    plt.scatter(x[pos,0],x[pos,1], color= 'b', s =200, marker = 'x', alpha = 0.8)\n",
    "\n",
    "x = np.linspace(-1,15)\n",
    "\n",
    "yS = w_iS[2] / w_iS[1] - (x * w_iS[0]) / w_iS[1]\n",
    "\n",
    "plt.plot(x,yS,'r', linewidth = 2)\n",
    "plt.title('Fronteras de decisión: Sigmoide')\n",
    "plt.show(fig)"
   ]
  },
  {
   "cell_type": "code",
   "execution_count": 7,
   "metadata": {},
   "outputs": [
    {
     "name": "stdout",
     "output_type": "stream",
     "text": [
      "\n",
      "Pesos finales: \n",
      "[[ -1.04760182]\n",
      " [ -1.70487723]\n",
      " [-15.01514102]]\n",
      "\n",
      "Sigmoide\n",
      "Meta:    Predicción:\n",
      "[1]--------[0.93647409]\n",
      "[1]--------[0.98210584]\n",
      "[1]--------[0.97378601]\n",
      "[-1]--------[0.00197731]\n",
      "[-1]--------[8.55055335e-05]\n",
      "[-1]--------[0.00031827]\n",
      "\n",
      "Tiempo requerido sigmoide: 0.48261 ms.\n",
      "\n",
      "Épocas requeridas: 3000.\n",
      "\n"
     ]
    }
   ],
   "source": [
    "print('')\n",
    "print('Pesos finales: ')\n",
    "for i in range(1):\n",
    "    res = str(w_iS)\n",
    "    print (res)\n",
    "print('')\n",
    "\n",
    "# Dot product\n",
    "a = np.dot(xS,w_iS)\n",
    "\n",
    "#Funcion sigmoide\n",
    "y = sigmoid(a)\n",
    "\n",
    "print('Sigmoide')\n",
    "print('Meta:    Predicción:')\n",
    "for i in range(len(y)):\n",
    "    resS = str(tS[i]) + '--------' + str(y[i])\n",
    "    print(resS)\n",
    "\n",
    "print(f'\\nTiempo requerido sigmoide: {tocS - ticS:.5f} ms.')\n",
    "print(f'\\nÉpocas requeridas: {epochS}.\\n')"
   ]
  },
  {
   "cell_type": "code",
   "execution_count": 8,
   "metadata": {},
   "outputs": [
    {
     "data": {
      "image/png": "[encoded data removed]",
      "text/plain": [
       "<Figure size 432x288 with 1 Axes>"
      ]
     },
     "metadata": {
      "needs_background": "light"
     },
     "output_type": "display_data"
    }
   ],
   "source": [
    "#Prueba\n",
    "# Plotting Decision Boundaries\n",
    "plt.xlim([-1.0, 15.0])\n",
    "plt.ylim([-1.0, 15.0])\n",
    "\n",
    "\n",
    "plt.scatter(5, 5, color = 'g', s = 200, marker = 'o', alpha = 0.8)\n",
    "plt.scatter(6, 8, color = 'b', s = 200, marker = 'x', alpha = 0.8)\n",
    "\n",
    "x1 = np.linspace(-1, 15)\n",
    "x2 = w_iS[2] / w_iS[1] - (x1 * w_iS[0]) / w_iS[1]\n",
    "\n",
    "plt.plot(x1, x2, 'red', linewidth = 2)\n",
    "plt.title('Prueba del Sigmoide')\n",
    "plt.show()"
   ]
  }
 ],
 "metadata": {
  "kernelspec": {
   "display_name": "Python 3",
   "language": "python",
   "name": "python3"
  },
  "language_info": {
   "codemirror_mode": {
    "name": "ipython",
    "version": 3
   },
   "file_extension": ".py",
   "mimetype": "text/x-python",
   "name": "python",
   "nbconvert_exporter": "python",
   "pygments_lexer": "ipython3",
   "version": "3.8.3"
  }
 },
 "nbformat": 4,
 "nbformat_minor": 4
}
