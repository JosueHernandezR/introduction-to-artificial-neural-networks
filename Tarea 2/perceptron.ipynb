{
 "cells": [
  {
   "cell_type": "code",
   "execution_count": 1,
   "metadata": {},
   "outputs": [
    {
     "name": "stdout",
     "output_type": "stream",
     "text": [
      "Entradas: \n",
      "[[ 2  6]\n",
      " [ 4  4]\n",
      " [ 6  3]\n",
      " [ 4 10]\n",
      " [ 7 10]\n",
      " [ 9  8]]\n"
     ]
    }
   ],
   "source": [
    "# Importando librerías\n",
    "\n",
    "import numpy as np\n",
    "import matplotlib.pyplot as plt\n",
    "import time\n",
    "err_vector = [] #vector de error\n",
    "w_f = [] #vector de pesos finales\n",
    "#Entradas\n",
    "x = np.array([\n",
    "    [2,6],\n",
    "    [4,4],\n",
    "    [6,3],\n",
    "    [4,10],\n",
    "    [7,10],\n",
    "    [9,8]\n",
    "])\n",
    "print(f\"Entradas: \\n{x}\")"
   ]
  },
  {
   "cell_type": "code",
   "execution_count": 2,
   "metadata": {},
   "outputs": [
    {
     "name": "stdout",
     "output_type": "stream",
     "text": [
      "Objetivos: \n",
      "[[0]\n",
      " [0]\n",
      " [0]\n",
      " [1]\n",
      " [1]\n",
      " [1]]\n"
     ]
    }
   ],
   "source": [
    "#Targets\n",
    "t = np.array([\n",
    "    [0],[0],[0],[1],[1],[1],\n",
    "])\n",
    "print(f\"Objetivos: \\n{t}\")"
   ]
  },
  {
   "cell_type": "code",
   "execution_count": 3,
   "metadata": {},
   "outputs": [
    {
     "name": "stdout",
     "output_type": "stream",
     "text": [
      "bias:\n",
      " [[-1.]\n",
      " [-1.]\n",
      " [-1.]\n",
      " [-1.]\n",
      " [-1.]\n",
      " [-1.]]\n"
     ]
    }
   ],
   "source": [
    "#bias\n",
    "bias = np.shape(x)[0] #[0] -> columnas [1] -> filas\n",
    "bias = -1*np.ones((bias, 1))\n",
    "print(f\"bias:\\n {bias}\")"
   ]
  },
  {
   "cell_type": "code",
   "execution_count": 4,
   "metadata": {},
   "outputs": [
    {
     "name": "stdout",
     "output_type": "stream",
     "text": [
      "Vector aumentado: \n",
      " [[ 2.  6. -1.]\n",
      " [ 4.  4. -1.]\n",
      " [ 6.  3. -1.]\n",
      " [ 4. 10. -1.]\n",
      " [ 7. 10. -1.]\n",
      " [ 9.  8. -1.]]\n"
     ]
    }
   ],
   "source": [
    "#Vector aumentado\n",
    "#Se tiene que usar el bias\n",
    "x = np.concatenate([x, bias], axis = 1)\n",
    "print(f\"Vector aumentado: \\n {x}\")"
   ]
  },
  {
   "cell_type": "code",
   "execution_count": 5,
   "metadata": {},
   "outputs": [
    {
     "name": "stdout",
     "output_type": "stream",
     "text": [
      "Pesos:\n",
      " [[0.25]\n",
      " [0.25]\n",
      " [1.  ]]\n"
     ]
    }
   ],
   "source": [
    "#Pesos\n",
    "w_i = np.array([[0.25],[0.25], [1.0]])\n",
    "print(f\"Pesos:\\n {w_i}\")"
   ]
  },
  {
   "cell_type": "code",
   "execution_count": 6,
   "metadata": {},
   "outputs": [],
   "source": [
    "alpha = 0.25\n",
    "#Tiempo\n",
    "tic =  time.time() #Se inicia cronometro"
   ]
  },
  {
   "cell_type": "code",
   "execution_count": 7,
   "metadata": {},
   "outputs": [
    {
     "name": "stdout",
     "output_type": "stream",
     "text": [
      "a: [[1.  ]\n",
      " [1.  ]\n",
      " [1.25]\n",
      " [2.5 ]\n",
      " [3.25]\n",
      " [3.25]]\n"
     ]
    }
   ],
   "source": [
    "#Regla del perceptron\n",
    "a = np.dot(x, w_i)\n",
    "print(f\"a: {a}\")"
   ]
  },
  {
   "cell_type": "code",
   "execution_count": 8,
   "metadata": {},
   "outputs": [
    {
     "name": "stdout",
     "output_type": "stream",
     "text": [
      "y:\n",
      " [[1]\n",
      " [1]\n",
      " [1]\n",
      " [1]\n",
      " [1]\n",
      " [1]]\n"
     ]
    }
   ],
   "source": [
    "#Funciòn limite duro\n",
    "y = np.uint32(a >= 0)\n",
    "print(f\"y:\\n {y}\")"
   ]
  },
  {
   "cell_type": "code",
   "execution_count": 9,
   "metadata": {},
   "outputs": [
    {
     "name": "stdout",
     "output_type": "stream",
     "text": [
      "Error:\n",
      "[array([0.5])]\n",
      "\n"
     ]
    }
   ],
   "source": [
    "# Función de costo -- MSE Error cuadrático medio\n",
    "err = sum((t - y) ** 2) / len(y)\n",
    "err_vector.append(err)\n",
    "print(f\"Error:\\n{err_vector}\\n\")\n",
    "epoch = 0"
   ]
  },
  {
   "cell_type": "code",
   "execution_count": 10,
   "metadata": {},
   "outputs": [],
   "source": [
    "while(sum(y != t)): #mientras la salida de la RNA no sea igual al target\n",
    "  epoch += 1\n",
    "  #print(f\"Epoca: {epoch}\\n\")\n",
    "\n",
    "  for i in range(np.shape(x)[0]): #Repetir segun la cantidad de filas de x\n",
    "    # Producto punto\n",
    "    a = np.dot(x[i], w_i)\n",
    "\n",
    "    #Limite Duro\n",
    "    y[i]= np.uint32(a >= 0)\n",
    "\n",
    "    # Actualización de pesos\n",
    "    x_p = np.reshape(x[i], (len(w_i), 1)) #REACOMODA np.reshape(matriz,(filas,columnas))\n",
    "    w_n = w_i + alpha * (t[i] - y[i]) * x_p\n",
    "    w_i = w_n\n",
    "    #print(f\"Peso nuevo:\\n{w_i}\\n\")\n",
    " \n",
    "  # Función de costo -- MSE Error cuadrático medio\n",
    "  err = sum((t - y) ** 2) / len(y)\n",
    "  err_vector.append(err)\n",
    "  #print(f\"Error:\\n{err}\\n\")\n",
    "\n",
    "  #Se añade al vector de pesos\n",
    "  w_f.append(w_i)\n",
    "  #print(f\"Vector de Pesos Finales:\\n{w_f}\\n\")\n",
    "\n",
    "\n",
    "toc = time.time() #Paro cronometro"
   ]
  },
  {
   "cell_type": "code",
   "execution_count": 11,
   "metadata": {},
   "outputs": [
    {
     "data": {
      "image/png": "[encoded data removed]",
      "text/plain": [
       "<Figure size 432x288 with 1 Axes>"
      ]
     },
     "metadata": {
      "needs_background": "light"
     },
     "output_type": "display_data"
    },
    {
     "data": {
      "image/png": "[encoded data removed]",
      "text/plain": [
       "<Figure size 432x288 with 1 Axes>"
      ]
     },
     "metadata": {
      "needs_background": "light"
     },
     "output_type": "display_data"
    }
   ],
   "source": [
    "# Plotting Error -- Graph\n",
    "plt.figure(0)\n",
    "plt.plot(err_vector, linewidth = 2)\n",
    "plt.title('Gráfica de error: REGLA PERCEPTRON')\n",
    "plt.ylabel('Magnitud de Error')\n",
    "plt.xlabel('Épocas')\n",
    "plt.scatter(len(err_vector) - 1, 0, color = 'r', s = 200, marker = 'o', alpha = 0.8)\n",
    "plt.show()\n",
    "\n",
    "# Plotting Decision Boundaries\n",
    "plt.xlim([-1.0, 15.0])\n",
    "plt.ylim([-1.0, 15.0])\n",
    "\n",
    "patterns = np.unique(t) #Encuentra los elementos únicos de la matriz t\n",
    "\n",
    "for patt in patterns:\n",
    "  pos = np.where(patt == t)[0] # np.where(TRUE)[0]\n",
    "  if patt == 0:\n",
    "    plt.scatter(x[pos, 0], x[pos, 1], color = 'g', s = 200, marker = 'o', alpha = 0.8)\n",
    "  else:\n",
    "    plt.scatter(x[pos, 0], x[pos, 1], color = 'b', s = 200, marker = 'x', alpha = 0.8)\n",
    "\n",
    "x1 = np.linspace(-1, 15)\n",
    "x2 = w_i[2] / w_i[1] - (x1 * w_i[0]) / w_i[1]\n",
    "\n",
    "plt.figure(1)\n",
    "plt.plot(x1, x2, 'red', linewidth = 2)\n",
    "plt.title('Fronteras de decisión: REGLA DEL PERCEPTRON')\n",
    "plt.show()"
   ]
  },
  {
   "cell_type": "code",
   "execution_count": 12,
   "metadata": {},
   "outputs": [
    {
     "name": "stdout",
     "output_type": "stream",
     "text": [
      "\n",
      "Pesos finales: \n",
      "[[0. ]\n",
      " [0.5]\n",
      " [3.5]]\n",
      "\n",
      "REGLA DEL PERCEPTRON\n",
      "Meta:    Predicción:\n",
      "[0]--------[0]\n",
      "[0]--------[0]\n",
      "[0]--------[0]\n",
      "[1]--------[1]\n",
      "[1]--------[1]\n",
      "[1]--------[1]\n",
      "\n",
      "Tiempo requerido: 0.07299 ms.\n",
      "\n",
      "Épocas requeridas: 14.\n"
     ]
    }
   ],
   "source": [
    "#Pesos Finales\n",
    "print('\\nPesos finales: ')\n",
    "for i in range(1):\n",
    "    res = str(w_i)\n",
    "    print(res)\n",
    "    print()\n",
    "#------------------------------------------------------------------\n",
    "# Displaying Results\n",
    "a = np.dot(x, w_i)\n",
    "y= np.uint32(a >= 0)\n",
    "\n",
    "print('REGLA DEL PERCEPTRON')\n",
    "print('Meta:    Predicción:')\n",
    "for i in range(len(y)):\n",
    "    res = str(t[i]) + '--------' + str(y[i])\n",
    "    print(res)\n",
    "\n",
    "print(f'\\nTiempo requerido: {toc - tic:.5f} ms.')\n",
    "print(f'\\nÉpocas requeridas: {epoch}.')"
   ]
  },
  {
   "cell_type": "code",
   "execution_count": 13,
   "metadata": {},
   "outputs": [
    {
     "data": {
      "image/png": "[encoded data removed]",
      "text/plain": [
       "<Figure size 432x288 with 1 Axes>"
      ]
     },
     "metadata": {
      "needs_background": "light"
     },
     "output_type": "display_data"
    }
   ],
   "source": [
    "#Prueba\n",
    "# Plotting Decision Boundaries\n",
    "plt.xlim([-1.0, 15.0])\n",
    "plt.ylim([-1.0, 15.0])\n",
    "\n",
    "\n",
    "plt.scatter(5, 5, color = 'g', s = 200, marker = 'o', alpha = 0.8)\n",
    "plt.scatter(6, 8, color = 'b', s = 200, marker = 'x', alpha = 0.8)\n",
    "\n",
    "x1 = np.linspace(-1, 15)\n",
    "x2 = w_i[2] / w_i[1] - (x1 * w_i[0]) / w_i[1]\n",
    "\n",
    "plt.plot(x1, x2, 'red', linewidth = 2)\n",
    "plt.title('Prueba del PERCEPTRÓN')\n",
    "plt.show()"
   ]
  }
 ],
 "metadata": {
  "kernelspec": {
   "display_name": "Python 3",
   "language": "python",
   "name": "python3"
  },
  "language_info": {
   "codemirror_mode": {
    "name": "ipython",
    "version": 3
   },
   "file_extension": ".py",
   "mimetype": "text/x-python",
   "name": "python",
   "nbconvert_exporter": "python",
   "pygments_lexer": "ipython3",
   "version": "3.8.3"
  }
 },
 "nbformat": 4,
 "nbformat_minor": 2
}
